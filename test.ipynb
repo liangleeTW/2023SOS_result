{
 "cells": [
  {
   "cell_type": "code",
   "execution_count": 22,
   "metadata": {},
   "outputs": [
    {
     "name": "stdout",
     "output_type": "stream",
     "text": [
      "[0, 10, 20, 30, 40, 50, 60, 70, 80]\n",
      "['0-10', '10-20', '20-30', '30-40', '40-50', '50-60', '60-70', '70-80']\n"
     ]
    }
   ],
   "source": [
    "def bins_function(start_num, end_num, range_differ):\n",
    "    real_end = end_num + range_differ\n",
    "    bin_list = list(range(start_num, real_end, range_differ))\n",
    "    return bin_list\n",
    "def labels_function(bins):\n",
    "    label_list = [str(bins[i]) + \"-\" + str(bins[i+1]) for i in range(len(bins)-1)]\n",
    "    return label_list\n",
    "\n",
    "bins = bins_function(0, 80, 10)\n",
    "print(bins)\n",
    "labels = labels_function(bins)\n",
    "print(labels)"
   ]
  },
  {
   "cell_type": "code",
   "execution_count": null,
   "metadata": {},
   "outputs": [],
   "source": []
  }
 ],
 "metadata": {
  "kernelspec": {
   "display_name": "Python 3",
   "language": "python",
   "name": "python3"
  },
  "language_info": {
   "codemirror_mode": {
    "name": "ipython",
    "version": 3
   },
   "file_extension": ".py",
   "mimetype": "text/x-python",
   "name": "python",
   "nbconvert_exporter": "python",
   "pygments_lexer": "ipython3",
   "version": "3.11.3"
  },
  "orig_nbformat": 4
 },
 "nbformat": 4,
 "nbformat_minor": 2
}
